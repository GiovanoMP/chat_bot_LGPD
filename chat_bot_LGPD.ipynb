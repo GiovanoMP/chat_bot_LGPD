{
  "cells": [
    {
      "cell_type": "markdown",
      "source": [
        "#Olá, bem-vindo(a) ao meu Chatbot sobre a LGPD. Caso queira reutilizar o código basta incluir em GOOGLE_API_KEY a sua própria chave do Google AI STUDIO. Não se esqueça de deixar sua chave entre as aspas."
      ],
      "metadata": {
        "id": "JFJKv0WHp7K6"
      }
    },
    {
      "cell_type": "markdown",
      "source": [
        "OBS: O arquivo lgpd_doc.json encontra-se disponível para download na página inicial deste projeto. Desta forma, você poderá treinar seu próprio modelo com o models/embedding-001"
      ],
      "metadata": {
        "id": "igg6VT-VqwBA"
      }
    },
    {
      "cell_type": "markdown",
      "metadata": {
        "id": "JFz6osu7xgrn"
      },
      "source": [
        "# Importação de Bibliotecas e Configuração da API"
      ]
    },
    {
      "cell_type": "code",
      "execution_count": 72,
      "metadata": {
        "id": "GeuRhtkwxlF3"
      },
      "outputs": [],
      "source": [
        "!pip install -q -U google-generativeai # -q -U (tornar o código menos verboso)\n",
        "\n",
        "import google.generativeai as genai\n",
        "import pandas as pd\n",
        "import json\n",
        "import numpy as np\n",
        "\n",
        "# API Key protegida com Secrets do Google Colab\n",
        "GOOGLE_API_KEY = \"insira_aqui_a_sua_chave\"\n",
        "genai.configure(api_key=GOOGLE_API_KEY)"
      ]
    },
    {
      "cell_type": "markdown",
      "metadata": {
        "id": "1OmC3CnwyX0k"
      },
      "source": [
        "# Carregamento e Processamento dos Dados"
      ]
    },
    {
      "cell_type": "code",
      "execution_count": 73,
      "metadata": {
        "id": "Y9SxP0Hcyb0D"
      },
      "outputs": [],
      "source": [
        "# Carregamento do arquivo JSON com os documentos sobre LGPD\n",
        "df = pd.read_json(\"lgpd_doc.json\")\n",
        "\n",
        "# Função para gerar embeddings dos documentos\n",
        "def embed_fn(titulo, conteudo):\n",
        "    embedding = genai.embed_content(\n",
        "        model=\"models/embedding-001\",\n",
        "        content=f\"{titulo} {conteudo}\",  # Combina título e conteúdo para o embedding\n",
        "        task_type=\"RETRIEVAL_DOCUMENT\",\n",
        "    )[\"embedding\"]\n",
        "    return embedding\n",
        "\n",
        "# Criação de embeddings para todos os documentos do DataFrame\n",
        "df[\"embeddings\"] = df.apply(lambda row: embed_fn(row[\"titulo\"], row[\"conteudo\"]), axis=1)\n"
      ]
    },
    {
      "cell_type": "code",
      "execution_count": 74,
      "metadata": {
        "colab": {
          "base_uri": "https://localhost:8080/",
          "height": 206
        },
        "id": "WELQs1PfzSdb",
        "outputId": "cf0549f4-79d7-414b-c3e2-4a390b44f155"
      },
      "outputs": [
        {
          "output_type": "execute_result",
          "data": {
            "text/plain": [
              "                                 titulo  \\\n",
              "0                     Introdução à LGPD   \n",
              "1               Princípios Fundamentais   \n",
              "2                Direitos dos Titulares   \n",
              "3  Obrigações dos Agentes de Tratamento   \n",
              "4                               Sanções   \n",
              "\n",
              "                                            conteudo  \\\n",
              "0  A Lei Geral de Proteção de Dados (LGPD), Lei n...   \n",
              "1  A LGPD é baseada em princípios essenciais que ...   \n",
              "2  A LGPD assegura aos titulares de dados uma sér...   \n",
              "3  A LGPD impõe uma série de obrigações aos contr...   \n",
              "4  O descumprimento da LGPD pode resultar em sanç...   \n",
              "\n",
              "                                          embeddings  \n",
              "0  [0.016463513, 0.01615148, -0.044074014, 0.0363...  \n",
              "1  [0.03152443, 0.013138074, -0.04572051, 0.03739...  \n",
              "2  [0.003222508, 0.02588983, -0.05301235, 0.03621...  \n",
              "3  [0.029915368, 0.0048636394, -0.03058556, 0.039...  \n",
              "4  [0.02137964, -0.008557823, -0.060764566, 0.031...  "
            ],
            "text/html": [
              "\n",
              "  <div id=\"df-d24bb66f-b692-48b7-928d-4f6f4cee7cb7\" class=\"colab-df-container\">\n",
              "    <div>\n",
              "<style scoped>\n",
              "    .dataframe tbody tr th:only-of-type {\n",
              "        vertical-align: middle;\n",
              "    }\n",
              "\n",
              "    .dataframe tbody tr th {\n",
              "        vertical-align: top;\n",
              "    }\n",
              "\n",
              "    .dataframe thead th {\n",
              "        text-align: right;\n",
              "    }\n",
              "</style>\n",
              "<table border=\"1\" class=\"dataframe\">\n",
              "  <thead>\n",
              "    <tr style=\"text-align: right;\">\n",
              "      <th></th>\n",
              "      <th>titulo</th>\n",
              "      <th>conteudo</th>\n",
              "      <th>embeddings</th>\n",
              "    </tr>\n",
              "  </thead>\n",
              "  <tbody>\n",
              "    <tr>\n",
              "      <th>0</th>\n",
              "      <td>Introdução à LGPD</td>\n",
              "      <td>A Lei Geral de Proteção de Dados (LGPD), Lei n...</td>\n",
              "      <td>[0.016463513, 0.01615148, -0.044074014, 0.0363...</td>\n",
              "    </tr>\n",
              "    <tr>\n",
              "      <th>1</th>\n",
              "      <td>Princípios Fundamentais</td>\n",
              "      <td>A LGPD é baseada em princípios essenciais que ...</td>\n",
              "      <td>[0.03152443, 0.013138074, -0.04572051, 0.03739...</td>\n",
              "    </tr>\n",
              "    <tr>\n",
              "      <th>2</th>\n",
              "      <td>Direitos dos Titulares</td>\n",
              "      <td>A LGPD assegura aos titulares de dados uma sér...</td>\n",
              "      <td>[0.003222508, 0.02588983, -0.05301235, 0.03621...</td>\n",
              "    </tr>\n",
              "    <tr>\n",
              "      <th>3</th>\n",
              "      <td>Obrigações dos Agentes de Tratamento</td>\n",
              "      <td>A LGPD impõe uma série de obrigações aos contr...</td>\n",
              "      <td>[0.029915368, 0.0048636394, -0.03058556, 0.039...</td>\n",
              "    </tr>\n",
              "    <tr>\n",
              "      <th>4</th>\n",
              "      <td>Sanções</td>\n",
              "      <td>O descumprimento da LGPD pode resultar em sanç...</td>\n",
              "      <td>[0.02137964, -0.008557823, -0.060764566, 0.031...</td>\n",
              "    </tr>\n",
              "  </tbody>\n",
              "</table>\n",
              "</div>\n",
              "    <div class=\"colab-df-buttons\">\n",
              "\n",
              "  <div class=\"colab-df-container\">\n",
              "    <button class=\"colab-df-convert\" onclick=\"convertToInteractive('df-d24bb66f-b692-48b7-928d-4f6f4cee7cb7')\"\n",
              "            title=\"Convert this dataframe to an interactive table.\"\n",
              "            style=\"display:none;\">\n",
              "\n",
              "  <svg xmlns=\"http://www.w3.org/2000/svg\" height=\"24px\" viewBox=\"0 -960 960 960\">\n",
              "    <path d=\"M120-120v-720h720v720H120Zm60-500h600v-160H180v160Zm220 220h160v-160H400v160Zm0 220h160v-160H400v160ZM180-400h160v-160H180v160Zm440 0h160v-160H620v160ZM180-180h160v-160H180v160Zm440 0h160v-160H620v160Z\"/>\n",
              "  </svg>\n",
              "    </button>\n",
              "\n",
              "  <style>\n",
              "    .colab-df-container {\n",
              "      display:flex;\n",
              "      gap: 12px;\n",
              "    }\n",
              "\n",
              "    .colab-df-convert {\n",
              "      background-color: #E8F0FE;\n",
              "      border: none;\n",
              "      border-radius: 50%;\n",
              "      cursor: pointer;\n",
              "      display: none;\n",
              "      fill: #1967D2;\n",
              "      height: 32px;\n",
              "      padding: 0 0 0 0;\n",
              "      width: 32px;\n",
              "    }\n",
              "\n",
              "    .colab-df-convert:hover {\n",
              "      background-color: #E2EBFA;\n",
              "      box-shadow: 0px 1px 2px rgba(60, 64, 67, 0.3), 0px 1px 3px 1px rgba(60, 64, 67, 0.15);\n",
              "      fill: #174EA6;\n",
              "    }\n",
              "\n",
              "    .colab-df-buttons div {\n",
              "      margin-bottom: 4px;\n",
              "    }\n",
              "\n",
              "    [theme=dark] .colab-df-convert {\n",
              "      background-color: #3B4455;\n",
              "      fill: #D2E3FC;\n",
              "    }\n",
              "\n",
              "    [theme=dark] .colab-df-convert:hover {\n",
              "      background-color: #434B5C;\n",
              "      box-shadow: 0px 1px 3px 1px rgba(0, 0, 0, 0.15);\n",
              "      filter: drop-shadow(0px 1px 2px rgba(0, 0, 0, 0.3));\n",
              "      fill: #FFFFFF;\n",
              "    }\n",
              "  </style>\n",
              "\n",
              "    <script>\n",
              "      const buttonEl =\n",
              "        document.querySelector('#df-d24bb66f-b692-48b7-928d-4f6f4cee7cb7 button.colab-df-convert');\n",
              "      buttonEl.style.display =\n",
              "        google.colab.kernel.accessAllowed ? 'block' : 'none';\n",
              "\n",
              "      async function convertToInteractive(key) {\n",
              "        const element = document.querySelector('#df-d24bb66f-b692-48b7-928d-4f6f4cee7cb7');\n",
              "        const dataTable =\n",
              "          await google.colab.kernel.invokeFunction('convertToInteractive',\n",
              "                                                    [key], {});\n",
              "        if (!dataTable) return;\n",
              "\n",
              "        const docLinkHtml = 'Like what you see? Visit the ' +\n",
              "          '<a target=\"_blank\" href=https://colab.research.google.com/notebooks/data_table.ipynb>data table notebook</a>'\n",
              "          + ' to learn more about interactive tables.';\n",
              "        element.innerHTML = '';\n",
              "        dataTable['output_type'] = 'display_data';\n",
              "        await google.colab.output.renderOutput(dataTable, element);\n",
              "        const docLink = document.createElement('div');\n",
              "        docLink.innerHTML = docLinkHtml;\n",
              "        element.appendChild(docLink);\n",
              "      }\n",
              "    </script>\n",
              "  </div>\n",
              "\n",
              "\n",
              "<div id=\"df-73ab2b82-f555-4ce2-ad9b-765d5c27515b\">\n",
              "  <button class=\"colab-df-quickchart\" onclick=\"quickchart('df-73ab2b82-f555-4ce2-ad9b-765d5c27515b')\"\n",
              "            title=\"Suggest charts\"\n",
              "            style=\"display:none;\">\n",
              "\n",
              "<svg xmlns=\"http://www.w3.org/2000/svg\" height=\"24px\"viewBox=\"0 0 24 24\"\n",
              "     width=\"24px\">\n",
              "    <g>\n",
              "        <path d=\"M19 3H5c-1.1 0-2 .9-2 2v14c0 1.1.9 2 2 2h14c1.1 0 2-.9 2-2V5c0-1.1-.9-2-2-2zM9 17H7v-7h2v7zm4 0h-2V7h2v10zm4 0h-2v-4h2v4z\"/>\n",
              "    </g>\n",
              "</svg>\n",
              "  </button>\n",
              "\n",
              "<style>\n",
              "  .colab-df-quickchart {\n",
              "      --bg-color: #E8F0FE;\n",
              "      --fill-color: #1967D2;\n",
              "      --hover-bg-color: #E2EBFA;\n",
              "      --hover-fill-color: #174EA6;\n",
              "      --disabled-fill-color: #AAA;\n",
              "      --disabled-bg-color: #DDD;\n",
              "  }\n",
              "\n",
              "  [theme=dark] .colab-df-quickchart {\n",
              "      --bg-color: #3B4455;\n",
              "      --fill-color: #D2E3FC;\n",
              "      --hover-bg-color: #434B5C;\n",
              "      --hover-fill-color: #FFFFFF;\n",
              "      --disabled-bg-color: #3B4455;\n",
              "      --disabled-fill-color: #666;\n",
              "  }\n",
              "\n",
              "  .colab-df-quickchart {\n",
              "    background-color: var(--bg-color);\n",
              "    border: none;\n",
              "    border-radius: 50%;\n",
              "    cursor: pointer;\n",
              "    display: none;\n",
              "    fill: var(--fill-color);\n",
              "    height: 32px;\n",
              "    padding: 0;\n",
              "    width: 32px;\n",
              "  }\n",
              "\n",
              "  .colab-df-quickchart:hover {\n",
              "    background-color: var(--hover-bg-color);\n",
              "    box-shadow: 0 1px 2px rgba(60, 64, 67, 0.3), 0 1px 3px 1px rgba(60, 64, 67, 0.15);\n",
              "    fill: var(--button-hover-fill-color);\n",
              "  }\n",
              "\n",
              "  .colab-df-quickchart-complete:disabled,\n",
              "  .colab-df-quickchart-complete:disabled:hover {\n",
              "    background-color: var(--disabled-bg-color);\n",
              "    fill: var(--disabled-fill-color);\n",
              "    box-shadow: none;\n",
              "  }\n",
              "\n",
              "  .colab-df-spinner {\n",
              "    border: 2px solid var(--fill-color);\n",
              "    border-color: transparent;\n",
              "    border-bottom-color: var(--fill-color);\n",
              "    animation:\n",
              "      spin 1s steps(1) infinite;\n",
              "  }\n",
              "\n",
              "  @keyframes spin {\n",
              "    0% {\n",
              "      border-color: transparent;\n",
              "      border-bottom-color: var(--fill-color);\n",
              "      border-left-color: var(--fill-color);\n",
              "    }\n",
              "    20% {\n",
              "      border-color: transparent;\n",
              "      border-left-color: var(--fill-color);\n",
              "      border-top-color: var(--fill-color);\n",
              "    }\n",
              "    30% {\n",
              "      border-color: transparent;\n",
              "      border-left-color: var(--fill-color);\n",
              "      border-top-color: var(--fill-color);\n",
              "      border-right-color: var(--fill-color);\n",
              "    }\n",
              "    40% {\n",
              "      border-color: transparent;\n",
              "      border-right-color: var(--fill-color);\n",
              "      border-top-color: var(--fill-color);\n",
              "    }\n",
              "    60% {\n",
              "      border-color: transparent;\n",
              "      border-right-color: var(--fill-color);\n",
              "    }\n",
              "    80% {\n",
              "      border-color: transparent;\n",
              "      border-right-color: var(--fill-color);\n",
              "      border-bottom-color: var(--fill-color);\n",
              "    }\n",
              "    90% {\n",
              "      border-color: transparent;\n",
              "      border-bottom-color: var(--fill-color);\n",
              "    }\n",
              "  }\n",
              "</style>\n",
              "\n",
              "  <script>\n",
              "    async function quickchart(key) {\n",
              "      const quickchartButtonEl =\n",
              "        document.querySelector('#' + key + ' button');\n",
              "      quickchartButtonEl.disabled = true;  // To prevent multiple clicks.\n",
              "      quickchartButtonEl.classList.add('colab-df-spinner');\n",
              "      try {\n",
              "        const charts = await google.colab.kernel.invokeFunction(\n",
              "            'suggestCharts', [key], {});\n",
              "      } catch (error) {\n",
              "        console.error('Error during call to suggestCharts:', error);\n",
              "      }\n",
              "      quickchartButtonEl.classList.remove('colab-df-spinner');\n",
              "      quickchartButtonEl.classList.add('colab-df-quickchart-complete');\n",
              "    }\n",
              "    (() => {\n",
              "      let quickchartButtonEl =\n",
              "        document.querySelector('#df-73ab2b82-f555-4ce2-ad9b-765d5c27515b button');\n",
              "      quickchartButtonEl.style.display =\n",
              "        google.colab.kernel.accessAllowed ? 'block' : 'none';\n",
              "    })();\n",
              "  </script>\n",
              "</div>\n",
              "\n",
              "    </div>\n",
              "  </div>\n"
            ],
            "application/vnd.google.colaboratory.intrinsic+json": {
              "type": "dataframe",
              "variable_name": "df",
              "summary": "{\n  \"name\": \"df\",\n  \"rows\": 6,\n  \"fields\": [\n    {\n      \"column\": \"titulo\",\n      \"properties\": {\n        \"dtype\": \"string\",\n        \"num_unique_values\": 6,\n        \"samples\": [\n          \"Introdu\\u00e7\\u00e3o \\u00e0 LGPD\",\n          \"Princ\\u00edpios Fundamentais\",\n          \"Conclus\\u00e3o\"\n        ],\n        \"semantic_type\": \"\",\n        \"description\": \"\"\n      }\n    },\n    {\n      \"column\": \"conteudo\",\n      \"properties\": {\n        \"dtype\": \"string\",\n        \"num_unique_values\": 6,\n        \"samples\": [\n          \"A Lei Geral de Prote\\u00e7\\u00e3o de Dados (LGPD), Lei n\\u00ba 13.709/2018, \\u00e9 um marco na prote\\u00e7\\u00e3o de dados pessoais no Brasil. Inspirada no Regulamento Geral sobre a Prote\\u00e7\\u00e3o de Dados (GDPR) da Uni\\u00e3o Europeia, a LGPD estabelece regras claras para o tratamento de dados pessoais, tanto em meio f\\u00edsico quanto digital, por pessoa f\\u00edsica ou jur\\u00eddica, de direito p\\u00fablico ou privado.\",\n          \"A LGPD \\u00e9 baseada em princ\\u00edpios essenciais que garantem a prote\\u00e7\\u00e3o dos direitos dos titulares de dados:\\n* **Finalidade:** Os dados pessoais devem ser coletados e tratados para prop\\u00f3sitos leg\\u00edtimos, espec\\u00edficos, expl\\u00edcitos e informados ao titular.\\n* **Adequa\\u00e7\\u00e3o:** O tratamento deve ser compat\\u00edvel com as finalidades informadas ao titular.\\n* **Necessidade:** Limita\\u00e7\\u00e3o do tratamento ao m\\u00ednimo necess\\u00e1rio para a realiza\\u00e7\\u00e3o de suas finalidades.\\n* **Livre acesso:** Garantia de consulta facilitada e gratuita sobre a forma e dura\\u00e7\\u00e3o do tratamento, bem como a integralidade de seus dados pessoais.\\n* **Qualidade dos dados:** Garantia de que os dados pessoais sejam exatos, claros, relevantes e atualizados.\\n* **Transpar\\u00eancia:**  Informa\\u00e7\\u00f5es claras e acess\\u00edveis sobre o tratamento dos dados e os respectivos agentes de tratamento.\\n* **Seguran\\u00e7a:** Ado\\u00e7\\u00e3o de medidas para proteger os dados pessoais de acessos n\\u00e3o autorizados e de situa\\u00e7\\u00f5es acidentais ou il\\u00edcitas.\\n* **Preven\\u00e7\\u00e3o:** Ado\\u00e7\\u00e3o de medidas para prevenir a ocorr\\u00eancia de danos em virtude do tratamento de dados pessoais.\\n* **N\\u00e3o discrimina\\u00e7\\u00e3o:**  Impossibilidade de realizar tratamento para fins discriminat\\u00f3rios il\\u00edcitos ou abusivos.\\n* **Responsabiliza\\u00e7\\u00e3o e presta\\u00e7\\u00e3o de contas:** Demonstra\\u00e7\\u00e3o da ado\\u00e7\\u00e3o de medidas eficazes e capazes de comprovar a observ\\u00e2ncia da LGPD.\",\n          \"A LGPD \\u00e9 um passo importante para a prote\\u00e7\\u00e3o da privacidade e dos dados pessoais no Brasil. \\u00c9 fundamental que empresas e indiv\\u00edduos compreendam as suas responsabilidades e direitos para garantir o tratamento adequado das informa\\u00e7\\u00f5es.\"\n        ],\n        \"semantic_type\": \"\",\n        \"description\": \"\"\n      }\n    },\n    {\n      \"column\": \"embeddings\",\n      \"properties\": {\n        \"dtype\": \"object\",\n        \"semantic_type\": \"\",\n        \"description\": \"\"\n      }\n    }\n  ]\n}"
            }
          },
          "metadata": {},
          "execution_count": 74
        }
      ],
      "source": [
        "df.head()"
      ]
    },
    {
      "cell_type": "markdown",
      "metadata": {
        "id": "ekPzHfyg8u5s"
      },
      "source": [
        "#  Função de Busca por Relevância"
      ]
    },
    {
      "cell_type": "code",
      "execution_count": 75,
      "metadata": {
        "id": "vqN0NbdT8wdL"
      },
      "outputs": [],
      "source": [
        "# Função para encontrar o documento mais similar à pergunta do usuário\n",
        "def gerar_buscar_consulta(consulta, dataframe, model):\n",
        "    # Gera o embedding da pergunta\n",
        "    embedding_consulta = genai.embed_content(\n",
        "        model=model, content=consulta, task_type=\"RETRIEVAL_QUERY\"\n",
        "    )[\"embedding\"]\n",
        "\n",
        "    # Calcula o produto escalar entre o embedding da pergunta e os embeddings dos documentos\n",
        "    produtos_escalares = np.dot(np.stack(df[\"embeddings\"]), embedding_consulta)\n",
        "\n",
        "    # Encontra o índice do documento com maior similaridade (maior produto escalar)\n",
        "    indice = np.argmax(produtos_escalares)\n",
        "\n",
        "    # Retorna o conteúdo do documento mais relevante\n",
        "    return df.iloc[indice][\"conteudo\"]"
      ]
    },
    {
      "cell_type": "markdown",
      "metadata": {
        "id": "E85XuFpx84LH"
      },
      "source": [
        "# Configuração do Gemini Pro"
      ]
    },
    {
      "cell_type": "code",
      "execution_count": null,
      "metadata": {
        "colab": {
          "base_uri": "https://localhost:8080/",
          "height": 147
        },
        "id": "cdiEZIOC87Pq",
        "outputId": "652d7210-e5be-4a6e-deba-d377ff9bcfac"
      },
      "outputs": [
        {
          "output_type": "stream",
          "name": "stdout",
          "text": [
            "Olá! Sou seu assistente jurídico.\n",
            "\n",
            "O que você quer saber sobre a LGPD? O que é a LGPD?\n",
            "A Lei Geral de Proteção de Dados (LGPD), Lei nº 13.709/2018, é uma legislação que regulamenta a coleta, o tratamento e a proteção de dados pessoais no Brasil, promovendo a proteção aos direitos fundamentais dos titulares e o desenvolvimento econômico e social do país.\n",
            "\n"
          ]
        }
      ],
      "source": [
        "model_gemini = genai.GenerativeModel(model_name=\"gemini-pro\")\n",
        "print(\"Olá! Sou seu assistente jurídico.\\n\")\n",
        "\n",
        "while True:\n",
        "    prompt = input(\"O que você quer saber sobre a LGPD? \")\n",
        "\n",
        "    if prompt.lower() == \"fim\":\n",
        "        break\n",
        "\n",
        "    trecho_relevante = gerar_buscar_consulta(prompt, df, \"models/embedding-001\")\n",
        "\n",
        "    resposta = model_gemini.generate_content(\n",
        "        f\"\"\"Considerando o seguinte trecho da LGPD: '{trecho_relevante}',\n",
        "        forneça uma resposta clara, concisa e informativa para a seguinte pergunta: '{prompt}'.\n",
        "        Utilize linguagem jurídica adequada para um advogado.\"\"\"\n",
        "    )\n",
        "    resposta_texto = resposta.text\n",
        "    print(resposta_texto + \"\\n\")"
      ]
    },
    {
      "cell_type": "markdown",
      "metadata": {
        "id": "uVedf7c3xef0"
      },
      "source": []
    }
  ],
  "metadata": {
    "colab": {
      "provenance": []
    },
    "kernelspec": {
      "display_name": "Python 3",
      "name": "python3"
    },
    "language_info": {
      "name": "python"
    }
  },
  "nbformat": 4,
  "nbformat_minor": 0
}
